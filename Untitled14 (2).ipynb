{
  "nbformat": 4,
  "nbformat_minor": 0,
  "metadata": {
    "colab": {
      "provenance": []
    },
    "kernelspec": {
      "name": "python3",
      "display_name": "Python 3"
    },
    "language_info": {
      "name": "python"
    }
  },
  "cells": [
    {
      "cell_type": "code",
      "execution_count": 3,
      "metadata": {
        "id": "hWv_X8Nt-YuS"
      },
      "outputs": [],
      "source": [
        "import pandas as pd"
      ]
    },
    {
      "cell_type": "code",
      "source": [
        "\n",
        "data = {'Hours_Studied': [1, 2, 3, 4, 5],\n",
        "        'Test_Score': [50, 60, 65, 70, 80]}\n",
        "df = pd.DataFrame(data)\n",
        "\n",
        "# Display the dataset\n",
        "print(df)\n"
      ],
      "metadata": {
        "colab": {
          "base_uri": "https://localhost:8080/"
        },
        "id": "rvkv3LiK-gIp",
        "outputId": "17554949-dbcb-499f-b514-e1c27b9f419e"
      },
      "execution_count": 4,
      "outputs": [
        {
          "output_type": "stream",
          "name": "stdout",
          "text": [
            "   Hours_Studied  Test_Score\n",
            "0              1          50\n",
            "1              2          60\n",
            "2              3          65\n",
            "3              4          70\n",
            "4              5          80\n"
          ]
        }
      ]
    },
    {
      "cell_type": "code",
      "source": [],
      "metadata": {
        "id": "mUbwyeC3LNpZ"
      },
      "execution_count": null,
      "outputs": []
    }
  ]
}